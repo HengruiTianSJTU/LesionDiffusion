{
 "cells": [
  {
   "cell_type": "code",
   "execution_count": 4,
   "metadata": {},
   "outputs": [],
   "source": [
    "import SimpleITK as sitk\n",
    "import h5py\n",
    "dataset_path = '/ailab/public/pjlab-smarthealth03/leiwenhui/thr/code/ldm/ldmweek12/dataset/data/'\n",
    "test_imgs = [\n",
    "    'synBraTS2021_01569+BraTS2021_01397.h5'\n",
    "]\n",
    "h5_path = dataset_path + test_imgs[0]\n",
    "nii_path = '/ailab/public/pjlab-smarthealth03/leiwenhui/thr/code/BiomedCLIP/output.nii.gz'\n",
    "with h5py.File(h5_path, 'r') as hf:\n",
    "    data = hf['samples'][:]\n",
    "    img = sitk.GetImageFromArray(data)\n",
    "\n",
    "    # 保存为NIfTI格式\n",
    "    sitk.WriteImage(img, nii_path)"
   ]
  },
  {
   "cell_type": "code",
   "execution_count": 8,
   "metadata": {},
   "outputs": [
    {
     "name": "stderr",
     "output_type": "stream",
     "text": [
      "WARNING: In /tmp/SimpleITK-build/ITK/Modules/IO/Meta/src/itkMetaImageIO.cxx, line 651\n",
      "MetaImageIO (0x403c050): Unsupported or empty metaData item ITK_FileNotes of type Ssfound, won't be written to image file\n",
      "\n",
      "WARNING: In /tmp/SimpleITK-build/ITK/Modules/IO/Meta/src/itkMetaImageIO.cxx, line 651\n",
      "MetaImageIO (0x403c050): Unsupported or empty metaData item aux_file of type Ssfound, won't be written to image file\n",
      "\n",
      "WARNING: In /tmp/SimpleITK-build/ITK/Modules/IO/Meta/src/itkMetaImageIO.cxx, line 651\n",
      "MetaImageIO (0x403c050): Unsupported or empty metaData item descrip of type Ssfound, won't be written to image file\n",
      "\n",
      "WARNING: In /tmp/SimpleITK-build/ITK/Modules/IO/Meta/src/itkMetaImageIO.cxx, line 651\n",
      "MetaImageIO (0x403c050): Unsupported or empty metaData item intent_name of type Ssfound, won't be written to image file\n",
      "\n",
      "WARNING: In /tmp/SimpleITK-build/ITK/Modules/IO/Meta/src/itkMetaImageIO.cxx, line 651\n",
      "MetaImageIO (0x403c050): Unsupported or empty metaData item qto_xyz of type N3itk6MatrixIfLj4ELj4EEEfound, won't be written to image file\n",
      "\n"
     ]
    },
    {
     "ename": "RuntimeError",
     "evalue": "Exception thrown in SimpleITK Show: /tmp/SimpleITK/Code/IO/src/sitkImageViewer.cxx:620:\nsitk::ERROR: No ImageJ/Fiji application found.",
     "output_type": "error",
     "traceback": [
      "\u001b[0;31m---------------------------------------------------------------------------\u001b[0m",
      "\u001b[0;31mRuntimeError\u001b[0m                              Traceback (most recent call last)",
      "\u001b[0;32m/tmp/ipykernel_53042/2555950442.py\u001b[0m in \u001b[0;36m?\u001b[0;34m()\u001b[0m\n\u001b[1;32m     10\u001b[0m \u001b[0;34m\u001b[0m\u001b[0m\n\u001b[1;32m     11\u001b[0m     \u001b[0;31m# 保存为NIfTI格式\u001b[0m\u001b[0;34m\u001b[0m\u001b[0;34m\u001b[0m\u001b[0m\n\u001b[1;32m     12\u001b[0m     \u001b[0msitk\u001b[0m\u001b[0;34m.\u001b[0m\u001b[0mWriteImage\u001b[0m\u001b[0;34m(\u001b[0m\u001b[0mimg\u001b[0m\u001b[0;34m,\u001b[0m \u001b[0mnii_path\u001b[0m\u001b[0;34m)\u001b[0m\u001b[0;34m\u001b[0m\u001b[0;34m\u001b[0m\u001b[0m\n\u001b[1;32m     13\u001b[0m \u001b[0mnii_img\u001b[0m \u001b[0;34m=\u001b[0m \u001b[0msitk\u001b[0m\u001b[0;34m.\u001b[0m\u001b[0mReadImage\u001b[0m\u001b[0;34m(\u001b[0m\u001b[0mnii_path\u001b[0m\u001b[0;34m)\u001b[0m\u001b[0;34m\u001b[0m\u001b[0;34m\u001b[0m\u001b[0m\n\u001b[0;32m---> 14\u001b[0;31m \u001b[0msitk\u001b[0m\u001b[0;34m.\u001b[0m\u001b[0mShow\u001b[0m\u001b[0;34m(\u001b[0m\u001b[0mnii_img\u001b[0m\u001b[0;34m)\u001b[0m\u001b[0;34m\u001b[0m\u001b[0;34m\u001b[0m\u001b[0m\n\u001b[0m",
      "\u001b[0;32m~/.conda/envs/thrbackup/lib/python3.11/site-packages/SimpleITK/SimpleITK.py\u001b[0m in \u001b[0;36m?\u001b[0;34m(*args, **kwargs)\u001b[0m\n\u001b[1;32m   7758\u001b[0m     \u001b[0mThis\u001b[0m \u001b[0mfunction\u001b[0m \u001b[0mdirectly\u001b[0m \u001b[0mcalls\u001b[0m \u001b[0mthe\u001b[0m \u001b[0mexecute\u001b[0m \u001b[0mmethod\u001b[0m \u001b[0mof\u001b[0m \u001b[0mImageViewer\u001b[0m \u001b[0;32min\u001b[0m \u001b[0morder\u001b[0m \u001b[0mto\u001b[0m \u001b[0msupport\u001b[0m \u001b[0ma\u001b[0m \u001b[0mprocedural\u001b[0m \u001b[0mAPI\u001b[0m\u001b[0;34m\u001b[0m\u001b[0;34m\u001b[0m\u001b[0m\n\u001b[1;32m   7759\u001b[0m \u001b[0;34m\u001b[0m\u001b[0m\n\u001b[1;32m   7760\u001b[0m \u001b[0;34m\u001b[0m\u001b[0m\n\u001b[1;32m   7761\u001b[0m     \"\"\"\n\u001b[0;32m-> 7762\u001b[0;31m     \u001b[0;32mreturn\u001b[0m \u001b[0m_SimpleITK\u001b[0m\u001b[0;34m.\u001b[0m\u001b[0mShow\u001b[0m\u001b[0;34m(\u001b[0m\u001b[0;34m*\u001b[0m\u001b[0margs\u001b[0m\u001b[0;34m,\u001b[0m \u001b[0;34m**\u001b[0m\u001b[0mkwargs\u001b[0m\u001b[0;34m)\u001b[0m\u001b[0;34m\u001b[0m\u001b[0;34m\u001b[0m\u001b[0m\n\u001b[0m",
      "\u001b[0;31mRuntimeError\u001b[0m: Exception thrown in SimpleITK Show: /tmp/SimpleITK/Code/IO/src/sitkImageViewer.cxx:620:\nsitk::ERROR: No ImageJ/Fiji application found."
     ]
    }
   ],
   "source": [
    "dataset_path = '/ailab/public/pjlab-smarthealth03/leiwenhui/thr/code/ldm/ldmweek12/dataset/data/'\n",
    "test_imgs = [\n",
    "    'synBraTS2021_01569+BraTS2021_01397.h5'\n",
    "]\n",
    "h5_path = dataset_path + test_imgs[0]\n",
    "nii_path = '/ailab/public/pjlab-smarthealth03/leiwenhui/thr/code/BiomedCLIP/output.nii.gz'\n",
    "with h5py.File(h5_path, 'r') as hf:\n",
    "    data = hf['samples'][:]\n",
    "    img = sitk.GetImageFromArray(data)\n",
    "\n",
    "    # 保存为NIfTI格式\n",
    "    sitk.WriteImage(img, nii_path)\n",
    "nii_img = sitk.ReadImage(nii_path)\n",
    "sitk.Show(nii_img)"
   ]
  }
 ],
 "metadata": {
  "kernelspec": {
   "display_name": "thrbackup",
   "language": "python",
   "name": "python3"
  },
  "language_info": {
   "codemirror_mode": {
    "name": "ipython",
    "version": 3
   },
   "file_extension": ".py",
   "mimetype": "text/x-python",
   "name": "python",
   "nbconvert_exporter": "python",
   "pygments_lexer": "ipython3",
   "version": "3.11.9"
  }
 },
 "nbformat": 4,
 "nbformat_minor": 2
}
